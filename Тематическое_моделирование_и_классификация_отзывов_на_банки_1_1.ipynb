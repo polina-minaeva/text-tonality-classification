{
  "cells": [
    {
      "cell_type": "markdown",
      "metadata": {
        "id": "view-in-github",
        "colab_type": "text"
      },
      "source": [
        "<a href=\"https://colab.research.google.com/github/polina-minaeva/text-tonality-classification/blob/main/%D0%A2%D0%B5%D0%BC%D0%B0%D1%82%D0%B8%D1%87%D0%B5%D1%81%D0%BA%D0%BE%D0%B5_%D0%BC%D0%BE%D0%B4%D0%B5%D0%BB%D0%B8%D1%80%D0%BE%D0%B2%D0%B0%D0%BD%D0%B8%D0%B5_%D0%B8_%D0%BA%D0%BB%D0%B0%D1%81%D1%81%D0%B8%D1%84%D0%B8%D0%BA%D0%B0%D1%86%D0%B8%D1%8F_%D0%BE%D1%82%D0%B7%D1%8B%D0%B2%D0%BE%D0%B2_%D0%BD%D0%B0_%D0%B1%D0%B0%D0%BD%D0%BA%D0%B8_1_1.ipynb\" target=\"_parent\"><img src=\"https://colab.research.google.com/assets/colab-badge.svg\" alt=\"Open In Colab\"/></a>"
      ]
    },
    {
      "cell_type": "markdown",
      "source": [
        "Доступны данные об отзывах клиентов на российские банки с сайта banki.ru – banki_responses.json.bz2. Проведем их анализ, выведем главные темы отзывов и классифицируем отзывы по тональности, используя n-граммы и скрытые темы.\n",
        "\n",
        "\n"
      ],
      "metadata": {
        "id": "1_2n6oXzpt2k"
      }
    },
    {
      "cell_type": "markdown",
      "source": [
        "# Загрузка библиотек"
      ],
      "metadata": {
        "id": "U4aigBsYXHTr"
      }
    },
    {
      "cell_type": "markdown",
      "source": [
        "Получение и представление данных"
      ],
      "metadata": {
        "id": "A1fjtCDlpYnq"
      }
    },
    {
      "cell_type": "code",
      "execution_count": 3,
      "metadata": {
        "id": "EsJHFTNgVl4y"
      },
      "outputs": [],
      "source": [
        "import json\n",
        "\n",
        "import bz2\n",
        "import regex\n",
        "from tqdm import tqdm\n",
        "from scipy import sparse"
      ]
    },
    {
      "cell_type": "code",
      "execution_count": 4,
      "metadata": {
        "colab": {
          "base_uri": "https://localhost:8080/"
        },
        "id": "YiSLpYczVwUC",
        "outputId": "decbb4b4-7fea-4124-af80-6377639c6a4a"
      },
      "outputs": [
        {
          "output_type": "stream",
          "name": "stdout",
          "text": [
            "Populating the interactive namespace from numpy and matplotlib\n"
          ]
        }
      ],
      "source": [
        "import pandas as pd\n",
        "import numpy as np\n",
        "import nltk\n",
        "import matplotlib.pyplot as plt\n",
        "import seaborn as sns\n",
        "%matplotlib inline\n",
        "%pylab inline"
      ]
    },
    {
      "cell_type": "markdown",
      "source": [
        "Для работы с текстами и словами"
      ],
      "metadata": {
        "id": "3FtpvYQxpWd2"
      }
    },
    {
      "cell_type": "code",
      "source": [
        "from sklearn.feature_extraction.text import CountVectorizer\n",
        "from nltk.tokenize import word_tokenize\n",
        "from nltk.stem import WordNetLemmatizer"
      ],
      "metadata": {
        "id": "pV_42QM2Z37h"
      },
      "execution_count": 17,
      "outputs": []
    },
    {
      "cell_type": "code",
      "source": [
        "import nltk\n",
        "nltk.download('punkt')"
      ],
      "metadata": {
        "colab": {
          "base_uri": "https://localhost:8080/"
        },
        "id": "6_FYkszNZ6-X",
        "outputId": "925e85a4-38aa-4c05-e620-4f0c4090b8dd"
      },
      "execution_count": 18,
      "outputs": [
        {
          "output_type": "stream",
          "name": "stderr",
          "text": [
            "[nltk_data] Downloading package punkt to /root/nltk_data...\n",
            "[nltk_data]   Unzipping tokenizers/punkt.zip.\n"
          ]
        },
        {
          "output_type": "execute_result",
          "data": {
            "text/plain": [
              "True"
            ]
          },
          "metadata": {},
          "execution_count": 18
        }
      ]
    },
    {
      "cell_type": "code",
      "source": [
        "import nltk\n",
        "nltk.download('stopwords')"
      ],
      "metadata": {
        "colab": {
          "base_uri": "https://localhost:8080/"
        },
        "id": "OvQZppoPZ9TR",
        "outputId": "210807a5-a964-40ba-b238-004a725ca459"
      },
      "execution_count": 19,
      "outputs": [
        {
          "output_type": "stream",
          "name": "stderr",
          "text": [
            "[nltk_data] Downloading package stopwords to /root/nltk_data...\n",
            "[nltk_data]   Unzipping corpora/stopwords.zip.\n"
          ]
        },
        {
          "output_type": "execute_result",
          "data": {
            "text/plain": [
              "True"
            ]
          },
          "metadata": {},
          "execution_count": 19
        }
      ]
    },
    {
      "cell_type": "code",
      "source": [
        "from nltk.corpus import stopwords\n",
        "from nltk import pos_tag, word_tokenize"
      ],
      "metadata": {
        "collapsed": true,
        "id": "iDuoWSPMZ_zk"
      },
      "execution_count": 21,
      "outputs": []
    },
    {
      "cell_type": "code",
      "source": [
        "from collections import Counter"
      ],
      "metadata": {
        "id": "_yzZAUsKbTUM"
      },
      "execution_count": 27,
      "outputs": []
    },
    {
      "cell_type": "code",
      "source": [
        "pip install pymorphy2"
      ],
      "metadata": {
        "colab": {
          "base_uri": "https://localhost:8080/"
        },
        "id": "v4MioeEZb9Fi",
        "outputId": "460dc72d-f4b9-484b-9b4e-97f1bc4ebc2f"
      },
      "execution_count": 31,
      "outputs": [
        {
          "output_type": "stream",
          "name": "stdout",
          "text": [
            "Collecting pymorphy2\n",
            "  Downloading pymorphy2-0.9.1-py3-none-any.whl.metadata (3.6 kB)\n",
            "Collecting dawg-python>=0.7.1 (from pymorphy2)\n",
            "  Downloading DAWG_Python-0.7.2-py2.py3-none-any.whl.metadata (7.0 kB)\n",
            "Collecting pymorphy2-dicts-ru<3.0,>=2.4 (from pymorphy2)\n",
            "  Downloading pymorphy2_dicts_ru-2.4.417127.4579844-py2.py3-none-any.whl.metadata (2.1 kB)\n",
            "Collecting docopt>=0.6 (from pymorphy2)\n",
            "  Downloading docopt-0.6.2.tar.gz (25 kB)\n",
            "  Preparing metadata (setup.py) ... \u001b[?25l\u001b[?25hdone\n",
            "Downloading pymorphy2-0.9.1-py3-none-any.whl (55 kB)\n",
            "\u001b[2K   \u001b[90m━━━━━━━━━━━━━━━━━━━━━━━━━━━━━━━━━━━━━━━━\u001b[0m \u001b[32m55.5/55.5 kB\u001b[0m \u001b[31m5.5 MB/s\u001b[0m eta \u001b[36m0:00:00\u001b[0m\n",
            "\u001b[?25hDownloading DAWG_Python-0.7.2-py2.py3-none-any.whl (11 kB)\n",
            "Downloading pymorphy2_dicts_ru-2.4.417127.4579844-py2.py3-none-any.whl (8.2 MB)\n",
            "\u001b[2K   \u001b[90m━━━━━━━━━━━━━━━━━━━━━━━━━━━━━━━━━━━━━━━━\u001b[0m \u001b[32m8.2/8.2 MB\u001b[0m \u001b[31m97.7 MB/s\u001b[0m eta \u001b[36m0:00:00\u001b[0m\n",
            "\u001b[?25hBuilding wheels for collected packages: docopt\n",
            "  Building wheel for docopt (setup.py) ... \u001b[?25l\u001b[?25hdone\n",
            "  Created wheel for docopt: filename=docopt-0.6.2-py2.py3-none-any.whl size=13704 sha256=cf8adf0551a15b4263bcfbcdb07498a0ceeeaa14cc06d1501ff89d58fb5ae07b\n",
            "  Stored in directory: /root/.cache/pip/wheels/fc/ab/d4/5da2067ac95b36618c629a5f93f809425700506f72c9732fac\n",
            "Successfully built docopt\n",
            "Installing collected packages: pymorphy2-dicts-ru, docopt, dawg-python, pymorphy2\n",
            "Successfully installed dawg-python-0.7.2 docopt-0.6.2 pymorphy2-0.9.1 pymorphy2-dicts-ru-2.4.417127.4579844\n"
          ]
        }
      ]
    },
    {
      "cell_type": "code",
      "source": [
        "import pymorphy2\n",
        "\n",
        "morph = pymorphy2.MorphAnalyzer()"
      ],
      "metadata": {
        "id": "Hzt6j4p8b_V0"
      },
      "execution_count": 32,
      "outputs": []
    },
    {
      "cell_type": "code",
      "source": [
        "from nltk.stem import WordNetLemmatizer\n",
        "nltk.download('averaged_perceptron_tagger')\n",
        "nltk.download('wordnet')\n",
        "nltk.download('punkt')"
      ],
      "metadata": {
        "colab": {
          "base_uri": "https://localhost:8080/"
        },
        "id": "dOjDfKjic1Ks",
        "outputId": "224963b4-bf4f-4a77-8d7d-091f551bc629"
      },
      "execution_count": 35,
      "outputs": [
        {
          "output_type": "stream",
          "name": "stderr",
          "text": [
            "[nltk_data] Downloading package averaged_perceptron_tagger to\n",
            "[nltk_data]     /root/nltk_data...\n",
            "[nltk_data]   Unzipping taggers/averaged_perceptron_tagger.zip.\n",
            "[nltk_data] Downloading package wordnet to /root/nltk_data...\n",
            "[nltk_data] Downloading package punkt to /root/nltk_data...\n",
            "[nltk_data]   Package punkt is already up-to-date!\n"
          ]
        },
        {
          "output_type": "execute_result",
          "data": {
            "text/plain": [
              "True"
            ]
          },
          "metadata": {},
          "execution_count": 35
        }
      ]
    },
    {
      "cell_type": "code",
      "source": [
        "from pymystem3 import Mystem\n",
        "m = Mystem()"
      ],
      "metadata": {
        "colab": {
          "base_uri": "https://localhost:8080/"
        },
        "id": "9Avc-rgle5D_",
        "outputId": "ede25b0f-86b5-4ff0-db53-203caac320d8"
      },
      "execution_count": 38,
      "outputs": [
        {
          "output_type": "stream",
          "name": "stderr",
          "text": [
            "Installing mystem to /root/.local/bin/mystem from http://download.cdn.yandex.net/mystem/mystem-3.1-linux-64bit.tar.gz\n"
          ]
        }
      ]
    },
    {
      "cell_type": "code",
      "source": [
        "from gensim.corpora import Dictionary\n",
        "from gensim.models import TfidfModel\n",
        "from gensim import similarities\n",
        "from sklearn.feature_extraction.text import CountVectorizer\n",
        "from gensim import matutils, models\n",
        "import gensim\n",
        "from gensim.models import lsimodel"
      ],
      "metadata": {
        "id": "68gv2Tu6e6q2"
      },
      "execution_count": 57,
      "outputs": []
    },
    {
      "cell_type": "code",
      "source": [
        "import re"
      ],
      "metadata": {
        "id": "aIOZx7v_e8-g"
      },
      "execution_count": 40,
      "outputs": []
    },
    {
      "cell_type": "code",
      "source": [
        "import seaborn as sns"
      ],
      "metadata": {
        "id": "oZKtP96sfu54"
      },
      "execution_count": 48,
      "outputs": []
    },
    {
      "cell_type": "markdown",
      "source": [
        "Для моделей"
      ],
      "metadata": {
        "id": "YnzlUtYFpSGp"
      }
    },
    {
      "cell_type": "code",
      "source": [
        "from sklearn.metrics import *\n",
        "from sklearn.model_selection import train_test_split"
      ],
      "metadata": {
        "id": "37LAwLCbgoyq"
      },
      "execution_count": 67,
      "outputs": []
    },
    {
      "cell_type": "code",
      "source": [
        "from sklearn.naive_bayes import MultinomialNB\n",
        "from sklearn.pipeline import Pipeline\n",
        "from sklearn.feature_extraction.text import CountVectorizer, TfidfVectorizer"
      ],
      "metadata": {
        "id": "vL7PYtC_gryg"
      },
      "execution_count": 68,
      "outputs": []
    },
    {
      "cell_type": "code",
      "source": [
        "from sklearn.metrics import classification_report"
      ],
      "metadata": {
        "id": "cK2clXqJgv4K"
      },
      "execution_count": 69,
      "outputs": []
    },
    {
      "cell_type": "code",
      "source": [
        "from sklearn.decomposition import TruncatedSVD, LatentDirichletAllocation\n",
        "from sklearn.ensemble import RandomForestClassifier\n",
        "from sklearn.metrics import accuracy_score, f1_score\n",
        "from sklearn.feature_extraction.text import TfidfTransformer"
      ],
      "metadata": {
        "id": "HB2CK6qNgtYk"
      },
      "execution_count": 70,
      "outputs": []
    },
    {
      "cell_type": "markdown",
      "source": [
        "# Загрузка данных"
      ],
      "metadata": {
        "id": "HCsAnbWoXUl-"
      }
    },
    {
      "cell_type": "code",
      "source": [
        "'''Подключаемся к гугл диску'''\n",
        "\n",
        "from google.colab import drive\n",
        "drive.mount('/content/drive')"
      ],
      "metadata": {
        "colab": {
          "base_uri": "https://localhost:8080/"
        },
        "id": "YJDrvW-6Wo-1",
        "outputId": "04d20f2d-a40e-4be1-8e0b-a4a04740e88b"
      },
      "execution_count": 5,
      "outputs": [
        {
          "output_type": "stream",
          "name": "stdout",
          "text": [
            "Mounted at /content/drive\n"
          ]
        }
      ]
    },
    {
      "cell_type": "code",
      "source": [
        "'''Получим файл banki_responses.json.bz2, который содержит данные об отзывах клиентов на банки'''\n",
        "\n",
        "filet = 'drive/MyDrive/Colab Notebooks/banki_responses.json.bz2'\n",
        "filet"
      ],
      "metadata": {
        "colab": {
          "base_uri": "https://localhost:8080/",
          "height": 36
        },
        "id": "P4ubcrZdWqNp",
        "outputId": "4a0e6bff-4966-4e04-9fa1-2692e50d895a"
      },
      "execution_count": 6,
      "outputs": [
        {
          "output_type": "execute_result",
          "data": {
            "text/plain": [
              "'drive/MyDrive/Colab Notebooks/banki_responses.json.bz2'"
            ],
            "application/vnd.google.colaboratory.intrinsic+json": {
              "type": "string"
            }
          },
          "metadata": {},
          "execution_count": 6
        }
      ]
    },
    {
      "cell_type": "code",
      "source": [
        "responses = []\n",
        "with bz2.BZ2File(filet, 'r') as thefile:\n",
        "    for row in tqdm(thefile):\n",
        "        resp = json.loads(row)\n",
        "        if not resp['rating_not_checked'] and (len(resp['text'].split()) > 0):\n",
        "            responses.append(resp)"
      ],
      "metadata": {
        "colab": {
          "base_uri": "https://localhost:8080/"
        },
        "id": "UgmqdVOBW2Qb",
        "outputId": "59c1faea-b804-4d31-880b-f614662f3b0f"
      },
      "execution_count": 7,
      "outputs": [
        {
          "output_type": "stream",
          "name": "stderr",
          "text": [
            "201030it [01:14, 2699.65it/s]\n"
          ]
        }
      ]
    },
    {
      "cell_type": "code",
      "execution_count": 11,
      "metadata": {
        "id": "RPYvaHE-V224",
        "colab": {
          "base_uri": "https://localhost:8080/"
        },
        "outputId": "9af6c1de-2037-455e-acbe-8e80182faa40"
      },
      "outputs": [
        {
          "output_type": "execute_result",
          "data": {
            "text/plain": [
              "{'city': 'г. Новочеркасск',\n",
              " 'rating_not_checked': False,\n",
              " 'title': 'отзыв',\n",
              " 'num_comments': 1,\n",
              " 'bank_license': 'лицензия № 1792',\n",
              " 'author': '07092008',\n",
              " 'bank_name': 'Русфинанс Банк',\n",
              " 'datetime': '2015-06-08 11:18:41',\n",
              " 'text': 'Добрый день, хочу написать свой отзыв о работе банка. Мне пришлось столкнуться с неприятностью. Выплатив кредит полностью, я явилась в офис банка в г. Ростов-на- Дону, ул.Театральная 60., получила на руки справку о погашении задолжености, следующим шагом моим было изъявление желания о закрытии счета, но оказалось, что на счете имеется переплата в 90 копеек,я написала заявление о зачислении денег на счет банка, для того чтобы наконец то получить справку о закрытии моего счета, это было 22 мая 2015 года, 08.06.2015г. мной был сделан звонок в банк с целью выяснения, почему так долго списывается сумма в 90 копеек с моего счета и когда же наконец я его закрою, на что был получен ответ, что 90 копеек там еще до сих пор висят,  сколько можно ждать, простой формальной процедуры?почему я, клиент банка, который не сделал ни одной просрочки в платежах в течении года,должна ждать, тратить свои деньги на звонки в банк, поездки туда, проживаю я в Новочеркасске,  и испытывать стресс!!!!',\n",
              " 'rating_grade': None}"
            ]
          },
          "metadata": {},
          "execution_count": 11
        }
      ],
      "source": [
        "'''Как выглядят данные: информация о городе, о банке, сам отзыв и оценка'''\n",
        "\n",
        "responses[50]"
      ]
    },
    {
      "cell_type": "code",
      "execution_count": 10,
      "metadata": {
        "id": "rYnchyFAV19a",
        "colab": {
          "base_uri": "https://localhost:8080/",
          "height": 556
        },
        "outputId": "4215b67c-79fb-4d70-a8a7-c321eebc0179"
      },
      "outputs": [
        {
          "output_type": "execute_result",
          "data": {
            "text/plain": [
              "             city  rating_not_checked  \\\n",
              "0       г. Москва               False   \n",
              "1  г. Новосибирск               False   \n",
              "2       г. Москва               False   \n",
              "3   г. Ставрополь               False   \n",
              "4    г. Челябинск               False   \n",
              "\n",
              "                                               title  num_comments  \\\n",
              "0                                             Жалоба             0   \n",
              "1      Не могу пользоваться услугой Сбербанк он-лайн             0   \n",
              "2                    Двойное списание за один товар.             1   \n",
              "3  Меняют проценты комиссии  не предупредив и не ...             2   \n",
              "4             Верните денежные средства за страховку             1   \n",
              "\n",
              "      bank_license       author        bank_name             datetime  \\\n",
              "0  лицензия № 2562       uhnov1          Бинбанк  2015-06-08 12:50:54   \n",
              "1  лицензия № 1481       Foryou  Сбербанк России  2015-06-08 11:09:57   \n",
              "2  лицензия № 2562   Vladimir84          Бинбанк  2015-06-05 20:14:28   \n",
              "3  лицензия № 1481       643609  Сбербанк России  2015-06-05 13:51:01   \n",
              "4  лицензия № 2766  anfisa-2003         ОТП Банк  2015-06-05 10:58:12   \n",
              "\n",
              "                                                text  rating_grade  \n",
              "0  Добрый день! Я не являюсь клиентом банка и пор...           NaN  \n",
              "1  Доброго дня! Являюсь держателем зарплатной кар...           NaN  \n",
              "2  Здравствуйте!  Дублирую свое заявление от 03.0...           NaN  \n",
              "3  Добрый день!! Я открыл расчетный счет в СберБа...           NaN  \n",
              "4  04.03.2015 г. взяла кредит в вашем банке, заяв...           NaN  "
            ],
            "text/html": [
              "\n",
              "  <div id=\"df-5ec39202-9076-4774-abd7-9ff0fb3bb242\" class=\"colab-df-container\">\n",
              "    <div>\n",
              "<style scoped>\n",
              "    .dataframe tbody tr th:only-of-type {\n",
              "        vertical-align: middle;\n",
              "    }\n",
              "\n",
              "    .dataframe tbody tr th {\n",
              "        vertical-align: top;\n",
              "    }\n",
              "\n",
              "    .dataframe thead th {\n",
              "        text-align: right;\n",
              "    }\n",
              "</style>\n",
              "<table border=\"1\" class=\"dataframe\">\n",
              "  <thead>\n",
              "    <tr style=\"text-align: right;\">\n",
              "      <th></th>\n",
              "      <th>city</th>\n",
              "      <th>rating_not_checked</th>\n",
              "      <th>title</th>\n",
              "      <th>num_comments</th>\n",
              "      <th>bank_license</th>\n",
              "      <th>author</th>\n",
              "      <th>bank_name</th>\n",
              "      <th>datetime</th>\n",
              "      <th>text</th>\n",
              "      <th>rating_grade</th>\n",
              "    </tr>\n",
              "  </thead>\n",
              "  <tbody>\n",
              "    <tr>\n",
              "      <th>0</th>\n",
              "      <td>г. Москва</td>\n",
              "      <td>False</td>\n",
              "      <td>Жалоба</td>\n",
              "      <td>0</td>\n",
              "      <td>лицензия № 2562</td>\n",
              "      <td>uhnov1</td>\n",
              "      <td>Бинбанк</td>\n",
              "      <td>2015-06-08 12:50:54</td>\n",
              "      <td>Добрый день! Я не являюсь клиентом банка и пор...</td>\n",
              "      <td>NaN</td>\n",
              "    </tr>\n",
              "    <tr>\n",
              "      <th>1</th>\n",
              "      <td>г. Новосибирск</td>\n",
              "      <td>False</td>\n",
              "      <td>Не могу пользоваться услугой Сбербанк он-лайн</td>\n",
              "      <td>0</td>\n",
              "      <td>лицензия № 1481</td>\n",
              "      <td>Foryou</td>\n",
              "      <td>Сбербанк России</td>\n",
              "      <td>2015-06-08 11:09:57</td>\n",
              "      <td>Доброго дня! Являюсь держателем зарплатной кар...</td>\n",
              "      <td>NaN</td>\n",
              "    </tr>\n",
              "    <tr>\n",
              "      <th>2</th>\n",
              "      <td>г. Москва</td>\n",
              "      <td>False</td>\n",
              "      <td>Двойное списание за один товар.</td>\n",
              "      <td>1</td>\n",
              "      <td>лицензия № 2562</td>\n",
              "      <td>Vladimir84</td>\n",
              "      <td>Бинбанк</td>\n",
              "      <td>2015-06-05 20:14:28</td>\n",
              "      <td>Здравствуйте!  Дублирую свое заявление от 03.0...</td>\n",
              "      <td>NaN</td>\n",
              "    </tr>\n",
              "    <tr>\n",
              "      <th>3</th>\n",
              "      <td>г. Ставрополь</td>\n",
              "      <td>False</td>\n",
              "      <td>Меняют проценты комиссии  не предупредив и не ...</td>\n",
              "      <td>2</td>\n",
              "      <td>лицензия № 1481</td>\n",
              "      <td>643609</td>\n",
              "      <td>Сбербанк России</td>\n",
              "      <td>2015-06-05 13:51:01</td>\n",
              "      <td>Добрый день!! Я открыл расчетный счет в СберБа...</td>\n",
              "      <td>NaN</td>\n",
              "    </tr>\n",
              "    <tr>\n",
              "      <th>4</th>\n",
              "      <td>г. Челябинск</td>\n",
              "      <td>False</td>\n",
              "      <td>Верните денежные средства за страховку</td>\n",
              "      <td>1</td>\n",
              "      <td>лицензия № 2766</td>\n",
              "      <td>anfisa-2003</td>\n",
              "      <td>ОТП Банк</td>\n",
              "      <td>2015-06-05 10:58:12</td>\n",
              "      <td>04.03.2015 г. взяла кредит в вашем банке, заяв...</td>\n",
              "      <td>NaN</td>\n",
              "    </tr>\n",
              "  </tbody>\n",
              "</table>\n",
              "</div>\n",
              "    <div class=\"colab-df-buttons\">\n",
              "\n",
              "  <div class=\"colab-df-container\">\n",
              "    <button class=\"colab-df-convert\" onclick=\"convertToInteractive('df-5ec39202-9076-4774-abd7-9ff0fb3bb242')\"\n",
              "            title=\"Convert this dataframe to an interactive table.\"\n",
              "            style=\"display:none;\">\n",
              "\n",
              "  <svg xmlns=\"http://www.w3.org/2000/svg\" height=\"24px\" viewBox=\"0 -960 960 960\">\n",
              "    <path d=\"M120-120v-720h720v720H120Zm60-500h600v-160H180v160Zm220 220h160v-160H400v160Zm0 220h160v-160H400v160ZM180-400h160v-160H180v160Zm440 0h160v-160H620v160ZM180-180h160v-160H180v160Zm440 0h160v-160H620v160Z\"/>\n",
              "  </svg>\n",
              "    </button>\n",
              "\n",
              "  <style>\n",
              "    .colab-df-container {\n",
              "      display:flex;\n",
              "      gap: 12px;\n",
              "    }\n",
              "\n",
              "    .colab-df-convert {\n",
              "      background-color: #E8F0FE;\n",
              "      border: none;\n",
              "      border-radius: 50%;\n",
              "      cursor: pointer;\n",
              "      display: none;\n",
              "      fill: #1967D2;\n",
              "      height: 32px;\n",
              "      padding: 0 0 0 0;\n",
              "      width: 32px;\n",
              "    }\n",
              "\n",
              "    .colab-df-convert:hover {\n",
              "      background-color: #E2EBFA;\n",
              "      box-shadow: 0px 1px 2px rgba(60, 64, 67, 0.3), 0px 1px 3px 1px rgba(60, 64, 67, 0.15);\n",
              "      fill: #174EA6;\n",
              "    }\n",
              "\n",
              "    .colab-df-buttons div {\n",
              "      margin-bottom: 4px;\n",
              "    }\n",
              "\n",
              "    [theme=dark] .colab-df-convert {\n",
              "      background-color: #3B4455;\n",
              "      fill: #D2E3FC;\n",
              "    }\n",
              "\n",
              "    [theme=dark] .colab-df-convert:hover {\n",
              "      background-color: #434B5C;\n",
              "      box-shadow: 0px 1px 3px 1px rgba(0, 0, 0, 0.15);\n",
              "      filter: drop-shadow(0px 1px 2px rgba(0, 0, 0, 0.3));\n",
              "      fill: #FFFFFF;\n",
              "    }\n",
              "  </style>\n",
              "\n",
              "    <script>\n",
              "      const buttonEl =\n",
              "        document.querySelector('#df-5ec39202-9076-4774-abd7-9ff0fb3bb242 button.colab-df-convert');\n",
              "      buttonEl.style.display =\n",
              "        google.colab.kernel.accessAllowed ? 'block' : 'none';\n",
              "\n",
              "      async function convertToInteractive(key) {\n",
              "        const element = document.querySelector('#df-5ec39202-9076-4774-abd7-9ff0fb3bb242');\n",
              "        const dataTable =\n",
              "          await google.colab.kernel.invokeFunction('convertToInteractive',\n",
              "                                                    [key], {});\n",
              "        if (!dataTable) return;\n",
              "\n",
              "        const docLinkHtml = 'Like what you see? Visit the ' +\n",
              "          '<a target=\"_blank\" href=https://colab.research.google.com/notebooks/data_table.ipynb>data table notebook</a>'\n",
              "          + ' to learn more about interactive tables.';\n",
              "        element.innerHTML = '';\n",
              "        dataTable['output_type'] = 'display_data';\n",
              "        await google.colab.output.renderOutput(dataTable, element);\n",
              "        const docLink = document.createElement('div');\n",
              "        docLink.innerHTML = docLinkHtml;\n",
              "        element.appendChild(docLink);\n",
              "      }\n",
              "    </script>\n",
              "  </div>\n",
              "\n",
              "\n",
              "<div id=\"df-e0f35843-7420-4f18-9cc3-83735556bad8\">\n",
              "  <button class=\"colab-df-quickchart\" onclick=\"quickchart('df-e0f35843-7420-4f18-9cc3-83735556bad8')\"\n",
              "            title=\"Suggest charts\"\n",
              "            style=\"display:none;\">\n",
              "\n",
              "<svg xmlns=\"http://www.w3.org/2000/svg\" height=\"24px\"viewBox=\"0 0 24 24\"\n",
              "     width=\"24px\">\n",
              "    <g>\n",
              "        <path d=\"M19 3H5c-1.1 0-2 .9-2 2v14c0 1.1.9 2 2 2h14c1.1 0 2-.9 2-2V5c0-1.1-.9-2-2-2zM9 17H7v-7h2v7zm4 0h-2V7h2v10zm4 0h-2v-4h2v4z\"/>\n",
              "    </g>\n",
              "</svg>\n",
              "  </button>\n",
              "\n",
              "<style>\n",
              "  .colab-df-quickchart {\n",
              "      --bg-color: #E8F0FE;\n",
              "      --fill-color: #1967D2;\n",
              "      --hover-bg-color: #E2EBFA;\n",
              "      --hover-fill-color: #174EA6;\n",
              "      --disabled-fill-color: #AAA;\n",
              "      --disabled-bg-color: #DDD;\n",
              "  }\n",
              "\n",
              "  [theme=dark] .colab-df-quickchart {\n",
              "      --bg-color: #3B4455;\n",
              "      --fill-color: #D2E3FC;\n",
              "      --hover-bg-color: #434B5C;\n",
              "      --hover-fill-color: #FFFFFF;\n",
              "      --disabled-bg-color: #3B4455;\n",
              "      --disabled-fill-color: #666;\n",
              "  }\n",
              "\n",
              "  .colab-df-quickchart {\n",
              "    background-color: var(--bg-color);\n",
              "    border: none;\n",
              "    border-radius: 50%;\n",
              "    cursor: pointer;\n",
              "    display: none;\n",
              "    fill: var(--fill-color);\n",
              "    height: 32px;\n",
              "    padding: 0;\n",
              "    width: 32px;\n",
              "  }\n",
              "\n",
              "  .colab-df-quickchart:hover {\n",
              "    background-color: var(--hover-bg-color);\n",
              "    box-shadow: 0 1px 2px rgba(60, 64, 67, 0.3), 0 1px 3px 1px rgba(60, 64, 67, 0.15);\n",
              "    fill: var(--button-hover-fill-color);\n",
              "  }\n",
              "\n",
              "  .colab-df-quickchart-complete:disabled,\n",
              "  .colab-df-quickchart-complete:disabled:hover {\n",
              "    background-color: var(--disabled-bg-color);\n",
              "    fill: var(--disabled-fill-color);\n",
              "    box-shadow: none;\n",
              "  }\n",
              "\n",
              "  .colab-df-spinner {\n",
              "    border: 2px solid var(--fill-color);\n",
              "    border-color: transparent;\n",
              "    border-bottom-color: var(--fill-color);\n",
              "    animation:\n",
              "      spin 1s steps(1) infinite;\n",
              "  }\n",
              "\n",
              "  @keyframes spin {\n",
              "    0% {\n",
              "      border-color: transparent;\n",
              "      border-bottom-color: var(--fill-color);\n",
              "      border-left-color: var(--fill-color);\n",
              "    }\n",
              "    20% {\n",
              "      border-color: transparent;\n",
              "      border-left-color: var(--fill-color);\n",
              "      border-top-color: var(--fill-color);\n",
              "    }\n",
              "    30% {\n",
              "      border-color: transparent;\n",
              "      border-left-color: var(--fill-color);\n",
              "      border-top-color: var(--fill-color);\n",
              "      border-right-color: var(--fill-color);\n",
              "    }\n",
              "    40% {\n",
              "      border-color: transparent;\n",
              "      border-right-color: var(--fill-color);\n",
              "      border-top-color: var(--fill-color);\n",
              "    }\n",
              "    60% {\n",
              "      border-color: transparent;\n",
              "      border-right-color: var(--fill-color);\n",
              "    }\n",
              "    80% {\n",
              "      border-color: transparent;\n",
              "      border-right-color: var(--fill-color);\n",
              "      border-bottom-color: var(--fill-color);\n",
              "    }\n",
              "    90% {\n",
              "      border-color: transparent;\n",
              "      border-bottom-color: var(--fill-color);\n",
              "    }\n",
              "  }\n",
              "</style>\n",
              "\n",
              "  <script>\n",
              "    async function quickchart(key) {\n",
              "      const quickchartButtonEl =\n",
              "        document.querySelector('#' + key + ' button');\n",
              "      quickchartButtonEl.disabled = true;  // To prevent multiple clicks.\n",
              "      quickchartButtonEl.classList.add('colab-df-spinner');\n",
              "      try {\n",
              "        const charts = await google.colab.kernel.invokeFunction(\n",
              "            'suggestCharts', [key], {});\n",
              "      } catch (error) {\n",
              "        console.error('Error during call to suggestCharts:', error);\n",
              "      }\n",
              "      quickchartButtonEl.classList.remove('colab-df-spinner');\n",
              "      quickchartButtonEl.classList.add('colab-df-quickchart-complete');\n",
              "    }\n",
              "    (() => {\n",
              "      let quickchartButtonEl =\n",
              "        document.querySelector('#df-e0f35843-7420-4f18-9cc3-83735556bad8 button');\n",
              "      quickchartButtonEl.style.display =\n",
              "        google.colab.kernel.accessAllowed ? 'block' : 'none';\n",
              "    })();\n",
              "  </script>\n",
              "</div>\n",
              "    </div>\n",
              "  </div>\n"
            ],
            "application/vnd.google.colaboratory.intrinsic+json": {
              "type": "dataframe",
              "variable_name": "df"
            }
          },
          "metadata": {},
          "execution_count": 10
        }
      ],
      "source": [
        "'''Переносим данные в формат датафрейма для удобства'''\n",
        "\n",
        "df = pd.DataFrame(responses)\n",
        "df.head()"
      ]
    },
    {
      "cell_type": "markdown",
      "source": [
        "# Часть 1. Анализ текстов"
      ],
      "metadata": {
        "id": "-2ZCpFDgXLG5"
      }
    },
    {
      "cell_type": "markdown",
      "source": [
        "##Количество отзывов по городам"
      ],
      "metadata": {
        "id": "F9By8UDkYInF"
      }
    },
    {
      "cell_type": "code",
      "source": [
        "df['city'].value_counts()"
      ],
      "metadata": {
        "colab": {
          "base_uri": "https://localhost:8080/",
          "height": 489
        },
        "id": "zVVeD6_GYQ6r",
        "outputId": "2f748f42-7c53-4095-ef3c-fcd1cf8cbe75"
      },
      "execution_count": 12,
      "outputs": [
        {
          "output_type": "execute_result",
          "data": {
            "text/plain": [
              "city\n",
              "г. Москва                               55354\n",
              "г. Санкт-Петербург                      14342\n",
              "г. Екатеринбург                          2337\n",
              "г. Новосибирск                           2300\n",
              "г. Нижний Новгород                       1976\n",
              "                                        ...  \n",
              "г. г.Калуга                                 1\n",
              "г. ВЕЛИКИЕ ЛУКИ                             1\n",
              "г. всеволожск                               1\n",
              "г. сейчас                                   1\n",
              "г. Краснодарский край, ст.Павловская        1\n",
              "Name: count, Length: 5823, dtype: int64"
            ],
            "text/html": [
              "<div>\n",
              "<style scoped>\n",
              "    .dataframe tbody tr th:only-of-type {\n",
              "        vertical-align: middle;\n",
              "    }\n",
              "\n",
              "    .dataframe tbody tr th {\n",
              "        vertical-align: top;\n",
              "    }\n",
              "\n",
              "    .dataframe thead th {\n",
              "        text-align: right;\n",
              "    }\n",
              "</style>\n",
              "<table border=\"1\" class=\"dataframe\">\n",
              "  <thead>\n",
              "    <tr style=\"text-align: right;\">\n",
              "      <th></th>\n",
              "      <th>count</th>\n",
              "    </tr>\n",
              "    <tr>\n",
              "      <th>city</th>\n",
              "      <th></th>\n",
              "    </tr>\n",
              "  </thead>\n",
              "  <tbody>\n",
              "    <tr>\n",
              "      <th>г. Москва</th>\n",
              "      <td>55354</td>\n",
              "    </tr>\n",
              "    <tr>\n",
              "      <th>г. Санкт-Петербург</th>\n",
              "      <td>14342</td>\n",
              "    </tr>\n",
              "    <tr>\n",
              "      <th>г. Екатеринбург</th>\n",
              "      <td>2337</td>\n",
              "    </tr>\n",
              "    <tr>\n",
              "      <th>г. Новосибирск</th>\n",
              "      <td>2300</td>\n",
              "    </tr>\n",
              "    <tr>\n",
              "      <th>г. Нижний Новгород</th>\n",
              "      <td>1976</td>\n",
              "    </tr>\n",
              "    <tr>\n",
              "      <th>...</th>\n",
              "      <td>...</td>\n",
              "    </tr>\n",
              "    <tr>\n",
              "      <th>г. г.Калуга</th>\n",
              "      <td>1</td>\n",
              "    </tr>\n",
              "    <tr>\n",
              "      <th>г. ВЕЛИКИЕ ЛУКИ</th>\n",
              "      <td>1</td>\n",
              "    </tr>\n",
              "    <tr>\n",
              "      <th>г. всеволожск</th>\n",
              "      <td>1</td>\n",
              "    </tr>\n",
              "    <tr>\n",
              "      <th>г. сейчас</th>\n",
              "      <td>1</td>\n",
              "    </tr>\n",
              "    <tr>\n",
              "      <th>г. Краснодарский край, ст.Павловская</th>\n",
              "      <td>1</td>\n",
              "    </tr>\n",
              "  </tbody>\n",
              "</table>\n",
              "<p>5823 rows × 1 columns</p>\n",
              "</div><br><label><b>dtype:</b> int64</label>"
            ]
          },
          "metadata": {},
          "execution_count": 12
        }
      ]
    },
    {
      "cell_type": "markdown",
      "source": [
        "##Количество отзывов по банкам"
      ],
      "metadata": {
        "id": "Z2qu0n_QYc0_"
      }
    },
    {
      "cell_type": "code",
      "source": [
        "df['bank_name'].value_counts()"
      ],
      "metadata": {
        "colab": {
          "base_uri": "https://localhost:8080/",
          "height": 489
        },
        "id": "x5OcWanBYX2V",
        "outputId": "bf7e956b-eb07-4800-86f1-94bc6333bf16"
      },
      "execution_count": 13,
      "outputs": [
        {
          "output_type": "execute_result",
          "data": {
            "text/plain": [
              "bank_name\n",
              "Сбербанк России     26327\n",
              "Альфа-Банк          10224\n",
              "ВТБ 24               8185\n",
              "Русский Стандарт     7943\n",
              "Хоум Кредит Банк     7549\n",
              "                    ...  \n",
              "Сиббизнесбанк           1\n",
              "Донбанк                 1\n",
              "Потенциал               1\n",
              "Ури Банк                1\n",
              "БайкалИнвестБанк        1\n",
              "Name: count, Length: 670, dtype: int64"
            ],
            "text/html": [
              "<div>\n",
              "<style scoped>\n",
              "    .dataframe tbody tr th:only-of-type {\n",
              "        vertical-align: middle;\n",
              "    }\n",
              "\n",
              "    .dataframe tbody tr th {\n",
              "        vertical-align: top;\n",
              "    }\n",
              "\n",
              "    .dataframe thead th {\n",
              "        text-align: right;\n",
              "    }\n",
              "</style>\n",
              "<table border=\"1\" class=\"dataframe\">\n",
              "  <thead>\n",
              "    <tr style=\"text-align: right;\">\n",
              "      <th></th>\n",
              "      <th>count</th>\n",
              "    </tr>\n",
              "    <tr>\n",
              "      <th>bank_name</th>\n",
              "      <th></th>\n",
              "    </tr>\n",
              "  </thead>\n",
              "  <tbody>\n",
              "    <tr>\n",
              "      <th>Сбербанк России</th>\n",
              "      <td>26327</td>\n",
              "    </tr>\n",
              "    <tr>\n",
              "      <th>Альфа-Банк</th>\n",
              "      <td>10224</td>\n",
              "    </tr>\n",
              "    <tr>\n",
              "      <th>ВТБ 24</th>\n",
              "      <td>8185</td>\n",
              "    </tr>\n",
              "    <tr>\n",
              "      <th>Русский Стандарт</th>\n",
              "      <td>7943</td>\n",
              "    </tr>\n",
              "    <tr>\n",
              "      <th>Хоум Кредит Банк</th>\n",
              "      <td>7549</td>\n",
              "    </tr>\n",
              "    <tr>\n",
              "      <th>...</th>\n",
              "      <td>...</td>\n",
              "    </tr>\n",
              "    <tr>\n",
              "      <th>Сиббизнесбанк</th>\n",
              "      <td>1</td>\n",
              "    </tr>\n",
              "    <tr>\n",
              "      <th>Донбанк</th>\n",
              "      <td>1</td>\n",
              "    </tr>\n",
              "    <tr>\n",
              "      <th>Потенциал</th>\n",
              "      <td>1</td>\n",
              "    </tr>\n",
              "    <tr>\n",
              "      <th>Ури Банк</th>\n",
              "      <td>1</td>\n",
              "    </tr>\n",
              "    <tr>\n",
              "      <th>БайкалИнвестБанк</th>\n",
              "      <td>1</td>\n",
              "    </tr>\n",
              "  </tbody>\n",
              "</table>\n",
              "<p>670 rows × 1 columns</p>\n",
              "</div><br><label><b>dtype:</b> int64</label>"
            ]
          },
          "metadata": {},
          "execution_count": 13
        }
      ]
    },
    {
      "cell_type": "markdown",
      "source": [
        "##Гистограмма длин отзывов в словах"
      ],
      "metadata": {
        "id": "jGgnXBAGYk4J"
      }
    },
    {
      "cell_type": "code",
      "source": [
        "hist_words = []\n",
        "\n",
        "for client in responses:\n",
        "  resp = re.findall('[a-zа-яё]+', client['text'], flags=re.IGNORECASE)\n",
        "  hist_words.append(len(resp))"
      ],
      "metadata": {
        "id": "BDLomfLXYgPe"
      },
      "execution_count": 14,
      "outputs": []
    },
    {
      "cell_type": "code",
      "source": [
        "sns.histplot(data=hist_words, log_scale=True).set(title='Длина отзывов в словах', xlabel='Количество слов', ylabel='Индекс отзыва')\n",
        "plt.show()"
      ],
      "metadata": {
        "colab": {
          "base_uri": "https://localhost:8080/",
          "height": 476
        },
        "id": "ZrOlJRRXZLbM",
        "outputId": "874ea9d7-dc14-416c-ef7d-eb3f196b06b9"
      },
      "execution_count": 15,
      "outputs": [
        {
          "output_type": "display_data",
          "data": {
            "text/plain": [
              "<Figure size 640x480 with 1 Axes>"
            ],
            "image/png": "[encoded data removed]"
          },
          "metadata": {}
        }
      ]
    },
    {
      "cell_type": "markdown",
      "source": [
        "##Гистограмма длин отзывов в символах"
      ],
      "metadata": {
        "id": "a8AzyDiwYqiU"
      }
    },
    {
      "cell_type": "code",
      "source": [
        "hist_sym = []\n",
        "\n",
        "for person in responses:\n",
        "    person_text = person['text'].replace(' ', '')\n",
        "    hist_sym.append(len(person_text))\n",
        "\n",
        "sns.histplot(data=hist_sym, log_scale=True).set(title='Длина отзывов в символах', xlabel='Количество символов', ylabel='Индекс отзыва')\n",
        "plt.show()"
      ],
      "metadata": {
        "colab": {
          "base_uri": "https://localhost:8080/",
          "height": 476
        },
        "id": "ko69XurHZMJ2",
        "outputId": "cf649489-c821-4689-d451-dab77f883f47"
      },
      "execution_count": 16,
      "outputs": [
        {
          "output_type": "display_data",
          "data": {
            "text/plain": [
              "<Figure size 640x480 with 1 Axes>"
            ],
            "image/png": "[encoded data removed]"
          },
          "metadata": {}
        }
      ]
    },
    {
      "cell_type": "markdown",
      "source": [
        "Для дальнейшей работы будем пользоваться лишь частью данных."
      ],
      "metadata": {
        "id": "W3taMMsOZmGB"
      }
    },
    {
      "cell_type": "code",
      "source": [
        "df['text'].count()"
      ],
      "metadata": {
        "colab": {
          "base_uri": "https://localhost:8080/"
        },
        "id": "_WvEK7hRccGE",
        "outputId": "5e5af8cd-7219-4842-deb3-c33db3532c56"
      },
      "execution_count": 34,
      "outputs": [
        {
          "output_type": "execute_result",
          "data": {
            "text/plain": [
              "153499"
            ]
          },
          "metadata": {},
          "execution_count": 34
        }
      ]
    },
    {
      "cell_type": "code",
      "source": [
        "texts = df['text'][:5000]"
      ],
      "metadata": {
        "id": "ojCXrhjtakXh"
      },
      "execution_count": 25,
      "outputs": []
    },
    {
      "cell_type": "markdown",
      "source": [
        "Вытащим из данных слова. Для этого: проводим токенизацию, приводит данные к нижнему регистру, убираем пунктуацию, убираем стоп-слова"
      ],
      "metadata": {
        "id": "RYIVjUX8al3N"
      }
    },
    {
      "cell_type": "code",
      "source": [
        "all_text = ' '.join(texts)\n",
        "\n",
        "tokens = word_tokenize(all_text)"
      ],
      "metadata": {
        "id": "KEPCqt9BZvn-"
      },
      "execution_count": 22,
      "outputs": []
    },
    {
      "cell_type": "code",
      "source": [
        "words = [word.lower() for word in tokens if word.isalnum()]\n",
        "\n",
        "tokens = [word for word in tokens if word.isalnum()]"
      ],
      "metadata": {
        "id": "Z2-2OL0haUrO"
      },
      "execution_count": 23,
      "outputs": []
    },
    {
      "cell_type": "code",
      "source": [
        "stop_words = set(stopwords.words('russian'))\n",
        "filtered_words = [word for word in words if word not in stop_words]"
      ],
      "metadata": {
        "id": "DjxhgPpNaZ8F"
      },
      "execution_count": 24,
      "outputs": []
    },
    {
      "cell_type": "markdown",
      "source": [
        "## 10 самых частых слов в отзывах"
      ],
      "metadata": {
        "id": "9DxuxJWiZdHk"
      }
    },
    {
      "cell_type": "code",
      "source": [
        "word_counts = Counter(tokens)\n",
        "word_counts.most_common(10)"
      ],
      "metadata": {
        "colab": {
          "base_uri": "https://localhost:8080/"
        },
        "id": "TUUF5z1-bM2H",
        "outputId": "db913a0b-fe92-44c8-e986-ea93a6d9b96c"
      },
      "execution_count": 29,
      "outputs": [
        {
          "output_type": "execute_result",
          "data": {
            "text/plain": [
              "[('в', 32525),\n",
              " ('и', 28132),\n",
              " ('не', 23931),\n",
              " ('на', 18364),\n",
              " ('что', 16992),\n",
              " ('с', 12838),\n",
              " ('я', 12659),\n",
              " ('по', 10415),\n",
              " ('мне', 8605),\n",
              " ('банка', 7170)]"
            ]
          },
          "metadata": {},
          "execution_count": 29
        }
      ]
    },
    {
      "cell_type": "markdown",
      "source": [
        "##10 самых частых слов в отзывах (не учитывая стоп-слова)"
      ],
      "metadata": {
        "id": "KWKs1kVDbhJH"
      }
    },
    {
      "cell_type": "code",
      "source": [
        "cl_word_counts = Counter(filtered_words)\n",
        "cl_word_counts.most_common(10)"
      ],
      "metadata": {
        "colab": {
          "base_uri": "https://localhost:8080/"
        },
        "id": "txMFH7oLbU07",
        "outputId": "5b42f0f2-3e38-4bfc-f4a4-bf0c1f1916ec"
      },
      "execution_count": 30,
      "outputs": [
        {
          "output_type": "execute_result",
          "data": {
            "text/plain": [
              "[('банка', 8243),\n",
              " ('банк', 6303),\n",
              " ('это', 5057),\n",
              " ('деньги', 3422),\n",
              " ('карты', 3046),\n",
              " ('карту', 2912),\n",
              " ('день', 2393),\n",
              " ('кредит', 2352),\n",
              " ('заявление', 1916),\n",
              " ('банке', 1863)]"
            ]
          },
          "metadata": {},
          "execution_count": 30
        }
      ]
    },
    {
      "cell_type": "markdown",
      "source": [
        "##10 самых частых лемм в отзывах"
      ],
      "metadata": {
        "id": "yY_g_XxocK0J"
      }
    },
    {
      "cell_type": "code",
      "source": [
        "try:\n",
        "    lemmas = [morph.parse(w)[0].normal_form for w in all_text.split(' ')]\n",
        "    counter = Counter(lemmas)\n",
        "    print(counter.most_common(10))\n",
        "except:\n",
        "    print(\"Ошибка при лемматизации текста.\")"
      ],
      "metadata": {
        "colab": {
          "base_uri": "https://localhost:8080/"
        },
        "id": "OJF2nqnccNJY",
        "outputId": "665cf53f-ac87-40d9-f974-b2118350b9f5"
      },
      "execution_count": 33,
      "outputs": [
        {
          "output_type": "stream",
          "name": "stdout",
          "text": [
            "[('в', 36363), ('я', 30521), ('и', 29293), ('не', 24451), ('на', 19805), ('что', 17482), ('с', 15083), ('банк', 12574), ('по', 10829), ('быть', 10716)]\n"
          ]
        }
      ]
    },
    {
      "cell_type": "markdown",
      "source": [
        "##10 самых частых существительных в отзывах"
      ],
      "metadata": {
        "id": "Li0KCTMMdDgY"
      }
    },
    {
      "cell_type": "code",
      "source": [
        "try:\n",
        "    lemmas = [morph.parse(w)[0].normal_form for w in all_text.split(' ')]\n",
        "    nouns = [lemma for lemma in lemmas if morph.parse(lemma)[0].tag.POS == 'NOUN']\n",
        "\n",
        "    counter = Counter(nouns)\n",
        "    print(counter.most_common(10))\n",
        "except:\n",
        "    print(\"Ошибка при анализе текста.\")"
      ],
      "metadata": {
        "colab": {
          "base_uri": "https://localhost:8080/"
        },
        "id": "A67TM0iucQxK",
        "outputId": "bdae92f7-404a-4fde-a231-ffaf5468666e"
      },
      "execution_count": 37,
      "outputs": [
        {
          "output_type": "stream",
          "name": "stdout",
          "text": [
            "[('банк', 12574), ('карта', 6370), ('сотрудник', 3686), ('деньга', 3261), ('мочь', 3033), ('кредит', 2933), ('сумма', 2654), ('отделение', 2650), ('день', 2587), ('счёт', 2532)]\n"
          ]
        }
      ]
    },
    {
      "cell_type": "code",
      "source": [
        "counter['сотрудник'] < counter['клиент']"
      ],
      "metadata": {
        "colab": {
          "base_uri": "https://localhost:8080/"
        },
        "id": "TkZR0oLlgITE",
        "outputId": "42ccb0ca-9e88-427f-f35c-314c72558690"
      },
      "execution_count": 43,
      "outputs": [
        {
          "output_type": "execute_result",
          "data": {
            "text/plain": [
              "False"
            ]
          },
          "metadata": {},
          "execution_count": 43
        }
      ]
    },
    {
      "cell_type": "code",
      "source": [
        "counter['мошенничество']"
      ],
      "metadata": {
        "colab": {
          "base_uri": "https://localhost:8080/"
        },
        "id": "Zu6wBv-7gDTx",
        "outputId": "f7415911-3ab7-46de-c3eb-501ceac0efcb"
      },
      "execution_count": 41,
      "outputs": [
        {
          "output_type": "execute_result",
          "data": {
            "text/plain": [
              "39"
            ]
          },
          "metadata": {},
          "execution_count": 41
        }
      ]
    },
    {
      "cell_type": "code",
      "source": [
        "counter['доверие']"
      ],
      "metadata": {
        "colab": {
          "base_uri": "https://localhost:8080/"
        },
        "id": "rCsTy1_9gGQv",
        "outputId": "b6167fa0-10bc-4ec9-8dcd-48aad85e7abb"
      },
      "execution_count": 42,
      "outputs": [
        {
          "output_type": "execute_result",
          "data": {
            "text/plain": [
              "68"
            ]
          },
          "metadata": {},
          "execution_count": 42
        }
      ]
    },
    {
      "cell_type": "markdown",
      "source": [
        "##Кривая Ципфа"
      ],
      "metadata": {
        "id": "aZ88chG0eAn-"
      }
    },
    {
      "cell_type": "code",
      "source": [
        "def zipf_curve(text): #функция для будущего ответа\n",
        "    word_freq = nltk.FreqDist(text)\n",
        "    sorted_freq = sorted(word_freq.values(), reverse=True)\n",
        "    ranks = np.arange(1, len(sorted_freq) + 1)\n",
        "    plt.figure(figsize=(10, 6))\n",
        "    plt.plot(ranks, sorted_freq, marker='o', linestyle='-')\n",
        "    plt.title('Кривая Ципфа')\n",
        "    plt.xlabel('Ранг слова')\n",
        "    plt.ylabel('Частота слова')\n",
        "    plt.show()"
      ],
      "metadata": {
        "id": "Cyps3mfGdG5S"
      },
      "execution_count": 44,
      "outputs": []
    },
    {
      "cell_type": "code",
      "source": [
        "zipf_curve(tokens) #применение функции"
      ],
      "metadata": {
        "colab": {
          "base_uri": "https://localhost:8080/",
          "height": 564
        },
        "id": "8JCQWvR_eJe_",
        "outputId": "f63deefb-44b1-4445-9ca3-437c0f56aaff"
      },
      "execution_count": 45,
      "outputs": [
        {
          "output_type": "display_data",
          "data": {
            "text/plain": [
              "<Figure size 1000x600 with 1 Axes>"
            ],
            "image/png": "[encoded data removed]"
          },
          "metadata": {}
        }
      ]
    },
    {
      "cell_type": "markdown",
      "source": [
        "## Кривая Хипса"
      ],
      "metadata": {
        "id": "bgGLDQ0yeCe5"
      }
    },
    {
      "cell_type": "code",
      "source": [
        "def heaps_curve(text): #функция для будущего ответа\n",
        "    corpus = []\n",
        "    vocab_sizes = []\n",
        "    words_seen = set()\n",
        "    for word in text:\n",
        "        words_seen.add(word)\n",
        "        corpus.append(len(words_seen))\n",
        "        vocab_sizes.append(len(words_seen))\n",
        "    plt.figure(figsize=(10, 6))\n",
        "    plt.plot(range(len(corpus)), vocab_sizes, marker='o', linestyle='-')\n",
        "    plt.title('Кривая Хипса')\n",
        "    plt.xlabel('Размер корпуса')\n",
        "    plt.ylabel('Размер словаря')\n",
        "    plt.show()"
      ],
      "metadata": {
        "id": "MacYq0ZheQjJ"
      },
      "execution_count": 46,
      "outputs": []
    },
    {
      "cell_type": "code",
      "source": [
        "heaps_curve(tokens) #применение функции"
      ],
      "metadata": {
        "colab": {
          "base_uri": "https://localhost:8080/",
          "height": 564
        },
        "id": "Cq7o-xUneSme",
        "outputId": "04903e85-6300-4853-9a4f-61e14fc994c2"
      },
      "execution_count": 47,
      "outputs": [
        {
          "output_type": "display_data",
          "data": {
            "text/plain": [
              "<Figure size 1000x600 with 1 Axes>"
            ],
            "image/png": "[encoded data removed]"
          },
          "metadata": {}
        }
      ]
    },
    {
      "cell_type": "markdown",
      "source": [
        "#Часть 2. Тематическое моделирование"
      ],
      "metadata": {
        "id": "PGays1atewI_"
      }
    },
    {
      "cell_type": "markdown",
      "source": [
        "Для построения модели обработаем данные и получим слова из отзывов"
      ],
      "metadata": {
        "id": "j9zo32RXmHoI"
      }
    },
    {
      "cell_type": "code",
      "source": [
        "ru_words = re.compile(\"[А-Яа-я]+\")\n",
        "\n",
        "m = Mystem()\n",
        "\n",
        "def words_only(text):\n",
        "    return \" \".join(ru_words.findall(text))\n",
        "\n",
        "def lemmatize(text, mystem=m):\n",
        "    try:\n",
        "        return \" \".join([m.lemmatize(w)[0] for w in text.split(' ')])\n",
        "    except:\n",
        "        return \" \"\n",
        "\n",
        "def remove_stopwords(text, mystopwords = stop_words):\n",
        "    try:\n",
        "        return \" \".join([token for token in text.split(' ') if not token in mystopwords])\n",
        "    except:\n",
        "        return \"\"\n",
        "\n",
        "def preprocess(text): #функция для будущего ответа\n",
        "    return remove_stopwords(lemmatize(words_only(text.lower())))"
      ],
      "metadata": {
        "id": "lNM3tpBEe0Kk"
      },
      "execution_count": 49,
      "outputs": []
    },
    {
      "cell_type": "code",
      "source": [
        "limitedDf = df.iloc[:5000].text #выбранные данные из датафрейма"
      ],
      "metadata": {
        "id": "RgAVrzwifADf"
      },
      "execution_count": 50,
      "outputs": []
    },
    {
      "cell_type": "code",
      "source": [
        "limitedDf = limitedDf.apply(preprocess) #применение функции"
      ],
      "metadata": {
        "colab": {
          "base_uri": "https://localhost:8080/"
        },
        "id": "4CN51V_NfFnc",
        "outputId": "c25a42d0-b168-4307-b4d0-7ea356d0cadb"
      },
      "execution_count": 51,
      "outputs": [
        {
          "output_type": "stream",
          "name": "stdout",
          "text": [
            "CPU times: user 37.7 s, sys: 10.3 s, total: 47.9 s\n",
            "Wall time: 2min 28s\n"
          ]
        }
      ]
    },
    {
      "cell_type": "code",
      "source": [
        "'''Создадим словарь и корпус из слов'''\n",
        "\n",
        "texts = [text.split() for text in limitedDf]\n",
        "dictionary = Dictionary(texts)\n",
        "corpus = [dictionary.doc2bow(text) for text in texts]"
      ],
      "metadata": {
        "id": "3ppI_5EgfIHU"
      },
      "execution_count": 52,
      "outputs": []
    },
    {
      "cell_type": "code",
      "source": [
        "'''Вносим корпус в модель и получаем Tfidf-представление слов'''\n",
        "\n",
        "tfidf = TfidfModel(corpus)\n",
        "corpus_tfidf = tfidf[corpus]"
      ],
      "metadata": {
        "id": "Q480s6UhfKjk"
      },
      "execution_count": 53,
      "outputs": []
    },
    {
      "cell_type": "code",
      "source": [
        "index = similarities.MatrixSimilarity(corpus_tfidf)\n",
        "sims = index[corpus_tfidf]"
      ],
      "metadata": {
        "colab": {
          "base_uri": "https://localhost:8080/"
        },
        "id": "5HAiQaYQfPhk",
        "outputId": "7bdb4b2c-cfb1-4d32-e55d-95390b949e7a"
      },
      "execution_count": 54,
      "outputs": [
        {
          "output_type": "stream",
          "name": "stderr",
          "text": [
            "WARNING:gensim.similarities.docsim:scanning corpus to determine the number of features (consider setting `num_features` explicitly)\n"
          ]
        }
      ]
    },
    {
      "cell_type": "code",
      "source": [
        "'''Модель LsiModel для выделения тем из текстов'''\n",
        "\n",
        "lsi = lsimodel.LsiModel(corpus=corpus_tfidf, id2word=dictionary, num_topics=30)"
      ],
      "metadata": {
        "id": "sL3zCh9BfXuq"
      },
      "execution_count": 58,
      "outputs": []
    },
    {
      "cell_type": "code",
      "source": [
        "lsi.show_topics(5) #отображение важных слов для каждой темы"
      ],
      "metadata": {
        "colab": {
          "base_uri": "https://localhost:8080/"
        },
        "id": "UtbZy5_bfiXu",
        "outputId": "a856402a-c58f-4281-e292-d3a4f94318f5"
      },
      "execution_count": 59,
      "outputs": [
        {
          "output_type": "execute_result",
          "data": {
            "text/plain": [
              "[(0,\n",
              "  '0.189*\"карта\" + 0.136*\"кредит\" + 0.115*\"деньги\" + 0.110*\"вклад\" + 0.102*\"счет\" + 0.100*\"заявление\" + 0.099*\"отделение\" + 0.098*\"сумма\" + 0.096*\"сотрудник\" + 0.095*\"сбербанк\"'),\n",
              " (1,\n",
              "  '-0.274*\"вклад\" + 0.253*\"звонок\" + 0.225*\"номер\" + -0.210*\"карта\" + 0.191*\"ваш\" + 0.181*\"кредит\" + 0.151*\"телефон\" + 0.128*\"звонить\" + 0.127*\"персональный\" + -0.124*\"банкомат\"'),\n",
              " (2,\n",
              "  '-0.652*\"вклад\" + 0.205*\"карта\" + -0.203*\"ставка\" + -0.161*\"договор\" + 0.161*\"банкомат\" + 0.151*\"сбербанк\" + -0.147*\"условие\" + -0.131*\"пополнение\" + -0.130*\"открывать\" + -0.114*\"процент\"'),\n",
              " (3,\n",
              "  '-0.373*\"страховка\" + -0.303*\"кредит\" + -0.295*\"страхование\" + 0.214*\"вклад\" + 0.197*\"номер\" + -0.153*\"договор\" + -0.147*\"страховой\" + 0.140*\"звонок\" + -0.127*\"погашение\" + 0.121*\"карта\"'),\n",
              " (4,\n",
              "  '0.197*\"средство\" + 0.186*\"платеж\" + -0.177*\"заявка\" + 0.167*\"денежный\" + 0.167*\"сумма\" + 0.144*\"счет\" + 0.134*\"договор\" + -0.132*\"отделение\" + 0.132*\"руб\" + 0.129*\"задолженность\"')]"
            ]
          },
          "metadata": {},
          "execution_count": 59
        }
      ]
    },
    {
      "cell_type": "markdown",
      "source": [
        "Анализируя результаты модели, видим, что:\n",
        "\n",
        "1.   Нулевая тема связана со Сбербанком, с кредитами и вкладами.\n",
        "2.   Первая тема связана со звонками клиенту и кредитами.\n",
        "3.   Вторая тема связана с банкоматами и банковской картой.\n",
        "4.   Третья тема связана со звонками клиенту и вкладами.\n",
        "5.   Четвертая тема связана с банковским счетом, договором, платежами и задолженностями."
      ],
      "metadata": {
        "id": "MbS-TuF7nueB"
      }
    },
    {
      "cell_type": "code",
      "source": [
        "topics = lsi.show_topics(num_topics=5)"
      ],
      "metadata": {
        "id": "WqYZ1PaifjxS"
      },
      "execution_count": 60,
      "outputs": []
    },
    {
      "cell_type": "markdown",
      "source": [
        "Посмотрим, как в темах отображаются некоторые банки"
      ],
      "metadata": {
        "id": "gNYTVnOznSj_"
      }
    },
    {
      "cell_type": "code",
      "source": [
        "banks = ['Сбербанк России', 'ВТБ 24', 'Русский Стандарт', 'Альфа-Банк']"
      ],
      "metadata": {
        "id": "2de5d4KSflfP"
      },
      "execution_count": 61,
      "outputs": []
    },
    {
      "cell_type": "code",
      "source": [
        "for topic_id, topic in topics:\n",
        "    terms = [term.split('*')[1].strip() for term in topic.split('+')]\n",
        "    for bank in banks:\n",
        "        if any(bank.lower() in term.lower() for term in terms):\n",
        "            print(f\"Тема {topic_id} содержит упоминание банка '{bank}'\")\n",
        "            print(\"Термины темы:\", terms)\n",
        "            print(\"\\n\")"
      ],
      "metadata": {
        "colab": {
          "base_uri": "https://localhost:8080/"
        },
        "id": "VPGrYUEbfm5g",
        "outputId": "40c9969c-ada5-4c4a-ba25-96c99e914279"
      },
      "execution_count": 62,
      "outputs": [
        {
          "output_type": "stream",
          "name": "stdout",
          "text": [
            "Тема 0 содержит упоминание банка 'Сбербанк России'\n",
            "Термины темы: ['\"карта\"', '\"кредит\"', '\"деньги\"', '\"вклад\"', '\"счет\"', '\"заявление\"', '\"отделение\"', '\"сумма\"', '\"сотрудник\"', '\"сбербанк\"']\n",
            "\n",
            "\n",
            "Тема 0 содержит упоминание банка 'ВТБ 24'\n",
            "Термины темы: ['\"карта\"', '\"кредит\"', '\"деньги\"', '\"вклад\"', '\"счет\"', '\"заявление\"', '\"отделение\"', '\"сумма\"', '\"сотрудник\"', '\"сбербанк\"']\n",
            "\n",
            "\n",
            "Тема 0 содержит упоминание банка 'Русский Стандарт'\n",
            "Термины темы: ['\"карта\"', '\"кредит\"', '\"деньги\"', '\"вклад\"', '\"счет\"', '\"заявление\"', '\"отделение\"', '\"сумма\"', '\"сотрудник\"', '\"сбербанк\"']\n",
            "\n",
            "\n",
            "Тема 0 содержит упоминание банка 'Альфа-Банк'\n",
            "Термины темы: ['\"карта\"', '\"кредит\"', '\"деньги\"', '\"вклад\"', '\"счет\"', '\"заявление\"', '\"отделение\"', '\"сумма\"', '\"сотрудник\"', '\"сбербанк\"']\n",
            "\n",
            "\n",
            "Тема 1 содержит упоминание банка 'Сбербанк России'\n",
            "Термины темы: ['\"вклад\"', '\"звонок\"', '\"номер\"', '\"карта\"', '\"ваш\"', '\"кредит\"', '\"телефон\"', '\"звонить\"', '\"персональный\"', '\"банкомат\"']\n",
            "\n",
            "\n",
            "Тема 1 содержит упоминание банка 'ВТБ 24'\n",
            "Термины темы: ['\"вклад\"', '\"звонок\"', '\"номер\"', '\"карта\"', '\"ваш\"', '\"кредит\"', '\"телефон\"', '\"звонить\"', '\"персональный\"', '\"банкомат\"']\n",
            "\n",
            "\n",
            "Тема 1 содержит упоминание банка 'Русский Стандарт'\n",
            "Термины темы: ['\"вклад\"', '\"звонок\"', '\"номер\"', '\"карта\"', '\"ваш\"', '\"кредит\"', '\"телефон\"', '\"звонить\"', '\"персональный\"', '\"банкомат\"']\n",
            "\n",
            "\n",
            "Тема 1 содержит упоминание банка 'Альфа-Банк'\n",
            "Термины темы: ['\"вклад\"', '\"звонок\"', '\"номер\"', '\"карта\"', '\"ваш\"', '\"кредит\"', '\"телефон\"', '\"звонить\"', '\"персональный\"', '\"банкомат\"']\n",
            "\n",
            "\n",
            "Тема 2 содержит упоминание банка 'Сбербанк России'\n",
            "Термины темы: ['\"вклад\"', '\"карта\"', '\"ставка\"', '\"договор\"', '\"банкомат\"', '\"сбербанк\"', '\"условие\"', '\"пополнение\"', '\"открывать\"', '\"процент\"']\n",
            "\n",
            "\n",
            "Тема 2 содержит упоминание банка 'ВТБ 24'\n",
            "Термины темы: ['\"вклад\"', '\"карта\"', '\"ставка\"', '\"договор\"', '\"банкомат\"', '\"сбербанк\"', '\"условие\"', '\"пополнение\"', '\"открывать\"', '\"процент\"']\n",
            "\n",
            "\n",
            "Тема 2 содержит упоминание банка 'Русский Стандарт'\n",
            "Термины темы: ['\"вклад\"', '\"карта\"', '\"ставка\"', '\"договор\"', '\"банкомат\"', '\"сбербанк\"', '\"условие\"', '\"пополнение\"', '\"открывать\"', '\"процент\"']\n",
            "\n",
            "\n",
            "Тема 2 содержит упоминание банка 'Альфа-Банк'\n",
            "Термины темы: ['\"вклад\"', '\"карта\"', '\"ставка\"', '\"договор\"', '\"банкомат\"', '\"сбербанк\"', '\"условие\"', '\"пополнение\"', '\"открывать\"', '\"процент\"']\n",
            "\n",
            "\n",
            "Тема 3 содержит упоминание банка 'Сбербанк России'\n",
            "Термины темы: ['\"страховка\"', '\"кредит\"', '\"страхование\"', '\"вклад\"', '\"номер\"', '\"договор\"', '\"страховой\"', '\"звонок\"', '\"погашение\"', '\"карта\"']\n",
            "\n",
            "\n",
            "Тема 3 содержит упоминание банка 'ВТБ 24'\n",
            "Термины темы: ['\"страховка\"', '\"кредит\"', '\"страхование\"', '\"вклад\"', '\"номер\"', '\"договор\"', '\"страховой\"', '\"звонок\"', '\"погашение\"', '\"карта\"']\n",
            "\n",
            "\n",
            "Тема 3 содержит упоминание банка 'Русский Стандарт'\n",
            "Термины темы: ['\"страховка\"', '\"кредит\"', '\"страхование\"', '\"вклад\"', '\"номер\"', '\"договор\"', '\"страховой\"', '\"звонок\"', '\"погашение\"', '\"карта\"']\n",
            "\n",
            "\n",
            "Тема 3 содержит упоминание банка 'Альфа-Банк'\n",
            "Термины темы: ['\"страховка\"', '\"кредит\"', '\"страхование\"', '\"вклад\"', '\"номер\"', '\"договор\"', '\"страховой\"', '\"звонок\"', '\"погашение\"', '\"карта\"']\n",
            "\n",
            "\n",
            "Тема 4 содержит упоминание банка 'Сбербанк России'\n",
            "Термины темы: ['\"средство\"', '\"платеж\"', '\"заявка\"', '\"денежный\"', '\"сумма\"', '\"счет\"', '\"договор\"', '\"отделение\"', '\"руб\"', '\"задолженность\"']\n",
            "\n",
            "\n",
            "Тема 4 содержит упоминание банка 'ВТБ 24'\n",
            "Термины темы: ['\"средство\"', '\"платеж\"', '\"заявка\"', '\"денежный\"', '\"сумма\"', '\"счет\"', '\"договор\"', '\"отделение\"', '\"руб\"', '\"задолженность\"']\n",
            "\n",
            "\n",
            "Тема 4 содержит упоминание банка 'Русский Стандарт'\n",
            "Термины темы: ['\"средство\"', '\"платеж\"', '\"заявка\"', '\"денежный\"', '\"сумма\"', '\"счет\"', '\"договор\"', '\"отделение\"', '\"руб\"', '\"задолженность\"']\n",
            "\n",
            "\n",
            "Тема 4 содержит упоминание банка 'Альфа-Банк'\n",
            "Термины темы: ['\"средство\"', '\"платеж\"', '\"заявка\"', '\"денежный\"', '\"сумма\"', '\"счет\"', '\"договор\"', '\"отделение\"', '\"руб\"', '\"задолженность\"']\n",
            "\n",
            "\n"
          ]
        }
      ]
    },
    {
      "cell_type": "code",
      "source": [
        "for topic_id, topic in topics:\n",
        "    terms = [term.split('*')[1].strip() for term in topic.split('+')]\n",
        "    weights = [float(term.split('*')[0]) for term in topic.split('+')]\n",
        "\n",
        "    # Создание DataFrame для визуализации\n",
        "    df_topic = pd.DataFrame({'Term': terms, 'Weight': weights})\n",
        "\n",
        "    # Построение столбчатой диаграммы для текущей темы\n",
        "    plt.figure(figsize=(10, 6))\n",
        "    sns.barplot(data=df_topic, x='Weight', y='Term', palette='viridis')\n",
        "    plt.title(f'Topic {topic_id}')\n",
        "    plt.xlabel('Weight')\n",
        "    plt.ylabel('Term')\n",
        "    plt.show()"
      ],
      "metadata": {
        "colab": {
          "base_uri": "https://localhost:8080/",
          "height": 1000
        },
        "id": "h0lTv-YdfoE0",
        "outputId": "20e13a9a-8b9a-452b-ea38-5d38a47c2566"
      },
      "execution_count": 63,
      "outputs": [
        {
          "output_type": "stream",
          "name": "stderr",
          "text": [
            "<ipython-input-63-f26cb20da866>:10: FutureWarning: \n",
            "\n",
            "Passing `palette` without assigning `hue` is deprecated and will be removed in v0.14.0. Assign the `y` variable to `hue` and set `legend=False` for the same effect.\n",
            "\n",
            "  sns.barplot(data=df_topic, x='Weight', y='Term', palette='viridis')\n"
          ]
        },
        {
          "output_type": "display_data",
          "data": {
            "text/plain": [
              "<Figure size 1000x600 with 1 Axes>"
            ],
            "image/png": "[encoded data removed]"
          },
          "metadata": {}
        },
        {
          "output_type": "stream",
          "name": "stderr",
          "text": [
            "<ipython-input-63-f26cb20da866>:10: FutureWarning: \n",
            "\n",
            "Passing `palette` without assigning `hue` is deprecated and will be removed in v0.14.0. Assign the `y` variable to `hue` and set `legend=False` for the same effect.\n",
            "\n",
            "  sns.barplot(data=df_topic, x='Weight', y='Term', palette='viridis')\n"
          ]
        },
        {
          "output_type": "display_data",
          "data": {
            "text/plain": [
              "<Figure size 1000x600 with 1 Axes>"
            ],
            "image/png": "[encoded data removed]"
          },
          "metadata": {}
        },
        {
          "output_type": "stream",
          "name": "stderr",
          "text": [
            "<ipython-input-63-f26cb20da866>:10: FutureWarning: \n",
            "\n",
            "Passing `palette` without assigning `hue` is deprecated and will be removed in v0.14.0. Assign the `y` variable to `hue` and set `legend=False` for the same effect.\n",
            "\n",
            "  sns.barplot(data=df_topic, x='Weight', y='Term', palette='viridis')\n"
          ]
        },
        {
          "output_type": "display_data",
          "data": {
            "text/plain": [
              "<Figure size 1000x600 with 1 Axes>"
            ],
            "image/png": "[encoded data removed]"
          },
          "metadata": {}
        },
        {
          "output_type": "stream",
          "name": "stderr",
          "text": [
            "<ipython-input-63-f26cb20da866>:10: FutureWarning: \n",
            "\n",
            "Passing `palette` without assigning `hue` is deprecated and will be removed in v0.14.0. Assign the `y` variable to `hue` and set `legend=False` for the same effect.\n",
            "\n",
            "  sns.barplot(data=df_topic, x='Weight', y='Term', palette='viridis')\n"
          ]
        },
        {
          "output_type": "display_data",
          "data": {
            "text/plain": [
              "<Figure size 1000x600 with 1 Axes>"
            ],
            "image/png": "[encoded data removed]"
          },
          "metadata": {}
        },
        {
          "output_type": "stream",
          "name": "stderr",
          "text": [
            "<ipython-input-63-f26cb20da866>:10: FutureWarning: \n",
            "\n",
            "Passing `palette` without assigning `hue` is deprecated and will be removed in v0.14.0. Assign the `y` variable to `hue` and set `legend=False` for the same effect.\n",
            "\n",
            "  sns.barplot(data=df_topic, x='Weight', y='Term', palette='viridis')\n"
          ]
        },
        {
          "output_type": "display_data",
          "data": {
            "text/plain": [
              "<Figure size 1000x600 with 1 Axes>"
            ],
            "image/png": "[encoded data removed]"
          },
          "metadata": {}
        }
      ]
    },
    {
      "cell_type": "markdown",
      "source": [
        "#Часть 3. Классификация отзывов по тональности"
      ],
      "metadata": {
        "id": "aop_GsJNgikb"
      }
    },
    {
      "cell_type": "markdown",
      "source": [
        "Будем классифицировать тексты с оценками 1 и 5"
      ],
      "metadata": {
        "id": "bSZW7dymi0wm"
      }
    },
    {
      "cell_type": "code",
      "source": [
        "'''Выбор данных'''\n",
        "\n",
        "neg_reviews = df[df['rating_grade'] == 1].sample(n=3000, random_state=42)\n",
        "pos_reviews = df[df['rating_grade'] == 5].sample(n=3000, random_state=42)\n",
        "\n",
        "sel_reviews = pd.concat([neg_reviews, pos_reviews])"
      ],
      "metadata": {
        "id": "OQK2jYwhgaN1"
      },
      "execution_count": 65,
      "outputs": []
    },
    {
      "cell_type": "code",
      "source": [
        "'''Разделение данных на тренировочную и тестовую выборки'''\n",
        "\n",
        "X_train, X_test, y_train, y_test = train_test_split(sel_reviews['text'], sel_reviews['rating_grade'], test_size=0.2, random_state=42)"
      ],
      "metadata": {
        "id": "rR93R0k1hTs2"
      },
      "execution_count": 71,
      "outputs": []
    },
    {
      "cell_type": "markdown",
      "source": [
        "##1) Классификация с помощью n-грам"
      ],
      "metadata": {
        "id": "VLOLkNeMjqEH"
      }
    },
    {
      "cell_type": "markdown",
      "source": [
        "Будем использовать классификатор MultinomialNB(). Построем несколько моделей с разными признаками. В качестве признаков попробуем использовать униграмы, биграмы и триграмы"
      ],
      "metadata": {
        "id": "BYdAhkk_jH7h"
      }
    },
    {
      "cell_type": "code",
      "source": [
        "classifier = MultinomialNB()"
      ],
      "metadata": {
        "id": "WzI-BPxrhhay"
      },
      "execution_count": 75,
      "outputs": []
    },
    {
      "cell_type": "code",
      "source": [
        "vectorizers = {\n",
        "    \"Униграмы\": CountVectorizer(ngram_range=(1, 1)),\n",
        "    \"Биграмы\": CountVectorizer(ngram_range=(1, 2)),\n",
        "    \"Триграмы\": CountVectorizer(ngram_range=(1, 3))\n",
        "}\n",
        "\n",
        "\n",
        "\n",
        "for name, vectorizer in vectorizers.items():\n",
        "    pipeline = Pipeline([\n",
        "        ('vectorizer', vectorizer),\n",
        "        ('classifier', classifier)\n",
        "    ])\n",
        "\n",
        "    pipeline.fit(X_train, y_train)\n",
        "    train_score = pipeline.score(X_train, y_train)\n",
        "    test_score = pipeline.score(X_test, y_test)\n",
        "\n",
        "    print(f\"Векторизация: {name}\")\n",
        "    print(f\"Точность на обучающем множестве: {train_score:.3f}\")\n",
        "    print(f\"Точность на тестовом множестве: {test_score:.3f}\")\n",
        "    print(\"-------------------------------------\")"
      ],
      "metadata": {
        "colab": {
          "base_uri": "https://localhost:8080/"
        },
        "id": "Y-59vTD2hlP3",
        "outputId": "08ba41cb-7380-46c4-edc5-953a2f839a99"
      },
      "execution_count": 76,
      "outputs": [
        {
          "output_type": "stream",
          "name": "stdout",
          "text": [
            "Векторизация: Униграмы\n",
            "Точность на обучающем множестве: 0.971\n",
            "Точность на тестовом множестве: 0.923\n",
            "-------------------------------------\n",
            "Векторизация: Биграмы\n",
            "Точность на обучающем множестве: 0.998\n",
            "Точность на тестовом множестве: 0.922\n",
            "-------------------------------------\n",
            "Векторизация: Триграмы\n",
            "Точность на обучающем множестве: 1.000\n",
            "Точность на тестовом множестве: 0.919\n",
            "-------------------------------------\n"
          ]
        }
      ]
    },
    {
      "cell_type": "markdown",
      "source": [
        "##2) Классификация с помощью скрытых тем"
      ],
      "metadata": {
        "id": "nCr8B6DRj8nO"
      }
    },
    {
      "cell_type": "code",
      "source": [
        "'''Классификация с помощью tfidf-преобразования и сингулярного разложения'''\n",
        "\n",
        "tfidf_lsi_pipeline = Pipeline([\n",
        "    ('vect', CountVectorizer()),\n",
        "    ('tfidf', TfidfTransformer()),\n",
        "    ('svd', TruncatedSVD(n_components=30)),\n",
        "    ('clf', RandomForestClassifier())\n",
        "])"
      ],
      "metadata": {
        "id": "BNMD7lH6hsnf"
      },
      "execution_count": 77,
      "outputs": []
    },
    {
      "cell_type": "code",
      "source": [
        "'''Классификация с помощью LDA'''\n",
        "\n",
        "lda_pipeline = Pipeline([\n",
        "    ('vect', CountVectorizer()),\n",
        "    ('lda', LatentDirichletAllocation(n_components=30, random_state=42)),\n",
        "    ('clf', RandomForestClassifier())\n",
        "])"
      ],
      "metadata": {
        "id": "PLu1IRRDhxex"
      },
      "execution_count": 78,
      "outputs": []
    },
    {
      "cell_type": "code",
      "source": [
        "for name, pipeline in [(\"tf-idf + LSI\", tfidf_lsi_pipeline), (\"LDA\", lda_pipeline)]:\n",
        "\n",
        "    pipeline.fit(X_train, y_train)\n",
        "\n",
        "    y_pred = pipeline.predict(X_test)\n",
        "    accuracy = accuracy_score(y_test, y_pred)\n",
        "    f1 = f1_score(y_test, y_pred, average='weighted')\n",
        "\n",
        "    print(f\"Метод: {name}\")\n",
        "    print(f\"Accuracy: {accuracy:.3f}\")\n",
        "    print(f\"F1-score: {f1:.3f}\")\n",
        "    print(classification_report(y_test, y_pred))\n",
        "    print(\"----------------------------------------\")"
      ],
      "metadata": {
        "colab": {
          "base_uri": "https://localhost:8080/"
        },
        "id": "15GCju1eh0qX",
        "outputId": "0845eaa4-97e8-424f-8d3c-26146701590f"
      },
      "execution_count": 79,
      "outputs": [
        {
          "output_type": "stream",
          "name": "stdout",
          "text": [
            "Метод: tf-idf + LSI\n",
            "Accuracy: 0.884\n",
            "F1-score: 0.884\n",
            "              precision    recall  f1-score   support\n",
            "\n",
            "         1.0       0.86      0.92      0.89       613\n",
            "         5.0       0.91      0.85      0.88       587\n",
            "\n",
            "    accuracy                           0.88      1200\n",
            "   macro avg       0.89      0.88      0.88      1200\n",
            "weighted avg       0.89      0.88      0.88      1200\n",
            "\n",
            "----------------------------------------\n",
            "Метод: LDA\n",
            "Accuracy: 0.844\n",
            "F1-score: 0.844\n",
            "              precision    recall  f1-score   support\n",
            "\n",
            "         1.0       0.90      0.78      0.84       613\n",
            "         5.0       0.80      0.91      0.85       587\n",
            "\n",
            "    accuracy                           0.84      1200\n",
            "   macro avg       0.85      0.85      0.84      1200\n",
            "weighted avg       0.85      0.84      0.84      1200\n",
            "\n",
            "----------------------------------------\n"
          ]
        }
      ]
    },
    {
      "cell_type": "markdown",
      "source": [
        "Как итог, у классификации с помощью n-грам точность модели выше. Но и результаты классифкации с п мощью скрытых тем оказались достойными: выше 80."
      ],
      "metadata": {
        "id": "A6vOGYC-lF8O"
      }
    }
  ],
  "metadata": {
    "accelerator": "GPU",
    "colab": {
      "gpuType": "T4",
      "provenance": [],
      "toc_visible": true,
      "authorship_tag": "ABX9TyMcEa9gTaSWiFQ+7aWf6og1",
      "include_colab_link": true
    },
    "kernelspec": {
      "display_name": "Python 3",
      "name": "python3"
    },
    "language_info": {
      "name": "python"
    }
  },
  "nbformat": 4,
  "nbformat_minor": 0
}